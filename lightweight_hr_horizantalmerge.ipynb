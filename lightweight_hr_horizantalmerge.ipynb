{
 "cells": [
  {
   "cell_type": "code",
   "execution_count": 1,
   "metadata": {},
   "outputs": [],
   "source": [
    "import pandas as pd"
   ]
  },
  {
   "cell_type": "markdown",
   "metadata": {},
   "source": [
    "Checking an example csv for heart rate\n"
   ]
  },
  {
   "cell_type": "code",
   "execution_count": 2,
   "metadata": {},
   "outputs": [
    {
     "data": {
      "text/html": [
       "<div>\n",
       "<style scoped>\n",
       "    .dataframe tbody tr th:only-of-type {\n",
       "        vertical-align: middle;\n",
       "    }\n",
       "\n",
       "    .dataframe tbody tr th {\n",
       "        vertical-align: top;\n",
       "    }\n",
       "\n",
       "    .dataframe thead th {\n",
       "        text-align: right;\n",
       "    }\n",
       "</style>\n",
       "<table border=\"1\" class=\"dataframe\">\n",
       "  <thead>\n",
       "    <tr style=\"text-align: right;\">\n",
       "      <th></th>\n",
       "      <th>user</th>\n",
       "      <th>datetime</th>\n",
       "      <th>heartrate</th>\n",
       "    </tr>\n",
       "  </thead>\n",
       "  <tbody>\n",
       "    <tr>\n",
       "      <th>0</th>\n",
       "      <td>A0KX894</td>\n",
       "      <td>2026-07-22 00:00:04</td>\n",
       "      <td>78</td>\n",
       "    </tr>\n",
       "    <tr>\n",
       "      <th>1</th>\n",
       "      <td>A0KX894</td>\n",
       "      <td>2026-07-22 00:00:09</td>\n",
       "      <td>77</td>\n",
       "    </tr>\n",
       "    <tr>\n",
       "      <th>2</th>\n",
       "      <td>A0KX894</td>\n",
       "      <td>2026-07-22 00:00:14</td>\n",
       "      <td>76</td>\n",
       "    </tr>\n",
       "    <tr>\n",
       "      <th>3</th>\n",
       "      <td>A0KX894</td>\n",
       "      <td>2026-07-22 00:00:19</td>\n",
       "      <td>75</td>\n",
       "    </tr>\n",
       "    <tr>\n",
       "      <th>4</th>\n",
       "      <td>A0KX894</td>\n",
       "      <td>2026-07-22 00:00:24</td>\n",
       "      <td>74</td>\n",
       "    </tr>\n",
       "    <tr>\n",
       "      <th>5</th>\n",
       "      <td>A0KX894</td>\n",
       "      <td>2026-07-22 00:00:29</td>\n",
       "      <td>75</td>\n",
       "    </tr>\n",
       "    <tr>\n",
       "      <th>6</th>\n",
       "      <td>A0KX894</td>\n",
       "      <td>2026-07-22 00:00:34</td>\n",
       "      <td>74</td>\n",
       "    </tr>\n",
       "    <tr>\n",
       "      <th>7</th>\n",
       "      <td>A0KX894</td>\n",
       "      <td>2026-07-22 00:00:49</td>\n",
       "      <td>74</td>\n",
       "    </tr>\n",
       "    <tr>\n",
       "      <th>8</th>\n",
       "      <td>A0KX894</td>\n",
       "      <td>2026-07-22 00:00:54</td>\n",
       "      <td>77</td>\n",
       "    </tr>\n",
       "    <tr>\n",
       "      <th>9</th>\n",
       "      <td>A0KX894</td>\n",
       "      <td>2026-07-22 00:00:59</td>\n",
       "      <td>76</td>\n",
       "    </tr>\n",
       "  </tbody>\n",
       "</table>\n",
       "</div>"
      ],
      "text/plain": [
       "      user             datetime  heartrate\n",
       "0  A0KX894  2026-07-22 00:00:04         78\n",
       "1  A0KX894  2026-07-22 00:00:09         77\n",
       "2  A0KX894  2026-07-22 00:00:14         76\n",
       "3  A0KX894  2026-07-22 00:00:19         75\n",
       "4  A0KX894  2026-07-22 00:00:24         74\n",
       "5  A0KX894  2026-07-22 00:00:29         75\n",
       "6  A0KX894  2026-07-22 00:00:34         74\n",
       "7  A0KX894  2026-07-22 00:00:49         74\n",
       "8  A0KX894  2026-07-22 00:00:54         77\n",
       "9  A0KX894  2026-07-22 00:00:59         76"
      ]
     },
     "execution_count": 2,
     "metadata": {},
     "output_type": "execute_result"
    }
   ],
   "source": [
    "df_ex_hr=pd.read_csv('datasets/COVID-19-Wearables/A0KX894_hr.csv')\n",
    "df_ex_hr.head(10)"
   ]
  },
  {
   "cell_type": "code",
   "execution_count": 3,
   "metadata": {},
   "outputs": [
    {
     "data": {
      "text/html": [
       "<div>\n",
       "<style scoped>\n",
       "    .dataframe tbody tr th:only-of-type {\n",
       "        vertical-align: middle;\n",
       "    }\n",
       "\n",
       "    .dataframe tbody tr th {\n",
       "        vertical-align: top;\n",
       "    }\n",
       "\n",
       "    .dataframe thead th {\n",
       "        text-align: right;\n",
       "    }\n",
       "</style>\n",
       "<table border=\"1\" class=\"dataframe\">\n",
       "  <thead>\n",
       "    <tr style=\"text-align: right;\">\n",
       "      <th></th>\n",
       "      <th>heartrate</th>\n",
       "    </tr>\n",
       "  </thead>\n",
       "  <tbody>\n",
       "    <tr>\n",
       "      <th>count</th>\n",
       "      <td>879561.000000</td>\n",
       "    </tr>\n",
       "    <tr>\n",
       "      <th>mean</th>\n",
       "      <td>76.706986</td>\n",
       "    </tr>\n",
       "    <tr>\n",
       "      <th>std</th>\n",
       "      <td>14.771697</td>\n",
       "    </tr>\n",
       "    <tr>\n",
       "      <th>min</th>\n",
       "      <td>47.000000</td>\n",
       "    </tr>\n",
       "    <tr>\n",
       "      <th>25%</th>\n",
       "      <td>66.000000</td>\n",
       "    </tr>\n",
       "    <tr>\n",
       "      <th>50%</th>\n",
       "      <td>75.000000</td>\n",
       "    </tr>\n",
       "    <tr>\n",
       "      <th>75%</th>\n",
       "      <td>85.000000</td>\n",
       "    </tr>\n",
       "    <tr>\n",
       "      <th>max</th>\n",
       "      <td>181.000000</td>\n",
       "    </tr>\n",
       "  </tbody>\n",
       "</table>\n",
       "</div>"
      ],
      "text/plain": [
       "           heartrate\n",
       "count  879561.000000\n",
       "mean       76.706986\n",
       "std        14.771697\n",
       "min        47.000000\n",
       "25%        66.000000\n",
       "50%        75.000000\n",
       "75%        85.000000\n",
       "max       181.000000"
      ]
     },
     "execution_count": 3,
     "metadata": {},
     "output_type": "execute_result"
    }
   ],
   "source": [
    "df_ex_hr.describe()"
   ]
  },
  {
   "cell_type": "code",
   "execution_count": 4,
   "metadata": {},
   "outputs": [
    {
     "name": "stdout",
     "output_type": "stream",
     "text": [
      "<class 'pandas.core.frame.DataFrame'>\n",
      "RangeIndex: 879561 entries, 0 to 879560\n",
      "Data columns (total 3 columns):\n",
      " #   Column     Non-Null Count   Dtype \n",
      "---  ------     --------------   ----- \n",
      " 0   user       879561 non-null  object\n",
      " 1   datetime   879561 non-null  object\n",
      " 2   heartrate  879561 non-null  int64 \n",
      "dtypes: int64(1), object(2)\n",
      "memory usage: 20.1+ MB\n"
     ]
    }
   ],
   "source": [
    "df_ex_hr.info()"
   ]
  },
  {
   "cell_type": "code",
   "execution_count": 5,
   "metadata": {},
   "outputs": [
    {
     "data": {
      "text/plain": [
       "count                  879561\n",
       "unique                 879561\n",
       "top       2026-07-22 00:00:04\n",
       "freq                        1\n",
       "Name: datetime, dtype: object"
      ]
     },
     "execution_count": 5,
     "metadata": {},
     "output_type": "execute_result"
    }
   ],
   "source": [
    "df_ex_hr['datetime'].describe()"
   ]
  },
  {
   "cell_type": "markdown",
   "metadata": {},
   "source": [
    "Max heart rate is normally 220 - 20, as the data recorded complies with the standards of Stanford universities, the participants should be around or superior to 20. lets do a quick check on one of the recorded data\n"
   ]
  },
  {
   "cell_type": "code",
   "execution_count": 6,
   "metadata": {},
   "outputs": [
    {
     "name": "stdout",
     "output_type": "stream",
     "text": [
      "Number of NaN entries:  user         0\n",
      "datetime     0\n",
      "heartrate    0\n",
      "dtype: int64\n",
      "Number of illogical entries:  user         0.0\n",
      "datetime     0.0\n",
      "heartrate    0.0\n",
      "dtype: float64\n"
     ]
    }
   ],
   "source": [
    "nan_entries = df_ex_hr.isna().sum()\n",
    "illogical_entries = df_ex_hr[(df_ex_hr['heartrate'] < 30)| (df_ex_hr['heartrate'] > 200)].sum()\n",
    "print('Number of NaN entries: ', nan_entries)\n",
    "print('Number of illogical entries: ', illogical_entries)"
   ]
  },
  {
   "cell_type": "markdown",
   "metadata": {},
   "source": [
    "Lets ittereate over the directories and save a dictionary containing the users name and the corresponding hr and steps"
   ]
  },
  {
   "cell_type": "code",
   "execution_count": 7,
   "metadata": {},
   "outputs": [],
   "source": [
    "import os\n",
    "dir_csv = 'datasets/COVID-19-Wearables/'\n",
    "files = [f for f in os.listdir(dir_csv) if f.endswith('.csv')] # we can straight do it with os.listdir\n",
    "# noticed there are some files with user name containing_1 or _2, so we need to put that into consideration\n",
    "#user_name = [f.split('_')[0] if f.count(\"_\")==1 else \"\"for f in files]\n",
    "# will deal with it inside the dictionary better\n",
    "user_name = [f.split('_')[0] for f in files]\n",
    "mult=0\n",
    "for i in user_name:\n",
    "    if(user_name.count(i)) < 1:\n",
    "        print('missing data for user: ', i)\n",
    "    if(user_name.count(i)) > 2:\n",
    "        mult+=1\n",
    "       \n",
    "user_name_unique = list(set(user_name))\n",
    "\n",
    "dict_user_data={}   \n",
    "for i in user_name_unique:\n",
    "    dict_user_data[i] = dict()# I am not concatinating strings, there is a user with multi entries\n",
    "    dict_user_data[i]['hr'] = [f for f in files if f == i+'_hr.csv']\n",
    "   \n",
    "    \n",
    "# to visualize all the directory structure\n"
   ]
  },
  {
   "cell_type": "code",
   "execution_count": 8,
   "metadata": {},
   "outputs": [],
   "source": [
    "merged_df_same_user_dict = {}\n",
    "merged_df_same_user_dict_2 = {}\n",
    "\n",
    "for user in dict_user_data.keys():\n",
    "    if dict_user_data[user]['hr'] != []:\n",
    "        df_hr = pd.read_csv(dir_csv + dict_user_data[user]['hr'][0])\n",
    "        df_hr['datetime'] = pd.to_datetime(df_hr['datetime'])\n",
    "        df_hr.set_index('datetime', inplace=True)\n",
    "        df_hr.resample('5Min').mean() # resample to 1 min\n",
    "        #df_hr['heartrate'].resample('1min').mean()\n",
    "        df_hr['datetime'] = df_hr.index\n",
    "    merged_df_same_user_dict[user]=df_hr\n",
    "    #merged_df_same_user_dict_2[user]=pd.merge(df_hr, df_steps, left_index=True, right_index=True, how=\"outer\")\n",
    "    \n",
    "\n"
   ]
  },
  {
   "cell_type": "code",
   "execution_count": null,
   "metadata": {},
   "outputs": [],
   "source": [
    "df_t = merged_df_same_user_dict['A0KX894']"
   ]
  },
  {
   "cell_type": "code",
   "execution_count": null,
   "metadata": {},
   "outputs": [
    {
     "data": {
      "text/html": [
       "<div>\n",
       "<style scoped>\n",
       "    .dataframe tbody tr th:only-of-type {\n",
       "        vertical-align: middle;\n",
       "    }\n",
       "\n",
       "    .dataframe tbody tr th {\n",
       "        vertical-align: top;\n",
       "    }\n",
       "\n",
       "    .dataframe thead th {\n",
       "        text-align: right;\n",
       "    }\n",
       "</style>\n",
       "<table border=\"1\" class=\"dataframe\">\n",
       "  <thead>\n",
       "    <tr style=\"text-align: right;\">\n",
       "      <th></th>\n",
       "      <th>user</th>\n",
       "      <th>heartrate</th>\n",
       "      <th>datetime</th>\n",
       "    </tr>\n",
       "    <tr>\n",
       "      <th>datetime</th>\n",
       "      <th></th>\n",
       "      <th></th>\n",
       "      <th></th>\n",
       "    </tr>\n",
       "  </thead>\n",
       "  <tbody>\n",
       "    <tr>\n",
       "      <th>2026-07-22 00:00:04</th>\n",
       "      <td>A0KX894</td>\n",
       "      <td>78</td>\n",
       "      <td>2026-07-22 00:00:04</td>\n",
       "    </tr>\n",
       "    <tr>\n",
       "      <th>2026-07-22 00:00:09</th>\n",
       "      <td>A0KX894</td>\n",
       "      <td>77</td>\n",
       "      <td>2026-07-22 00:00:09</td>\n",
       "    </tr>\n",
       "    <tr>\n",
       "      <th>2026-07-22 00:00:14</th>\n",
       "      <td>A0KX894</td>\n",
       "      <td>76</td>\n",
       "      <td>2026-07-22 00:00:14</td>\n",
       "    </tr>\n",
       "    <tr>\n",
       "      <th>2026-07-22 00:00:19</th>\n",
       "      <td>A0KX894</td>\n",
       "      <td>75</td>\n",
       "      <td>2026-07-22 00:00:19</td>\n",
       "    </tr>\n",
       "    <tr>\n",
       "      <th>2026-07-22 00:00:24</th>\n",
       "      <td>A0KX894</td>\n",
       "      <td>74</td>\n",
       "      <td>2026-07-22 00:00:24</td>\n",
       "    </tr>\n",
       "  </tbody>\n",
       "</table>\n",
       "</div>"
      ],
      "text/plain": [
       "                        user  heartrate            datetime\n",
       "datetime                                                   \n",
       "2026-07-22 00:00:04  A0KX894         78 2026-07-22 00:00:04\n",
       "2026-07-22 00:00:09  A0KX894         77 2026-07-22 00:00:09\n",
       "2026-07-22 00:00:14  A0KX894         76 2026-07-22 00:00:14\n",
       "2026-07-22 00:00:19  A0KX894         75 2026-07-22 00:00:19\n",
       "2026-07-22 00:00:24  A0KX894         74 2026-07-22 00:00:24"
      ]
     },
     "execution_count": 45,
     "metadata": {},
     "output_type": "execute_result"
    }
   ],
   "source": [
    "df_t.head()"
   ]
  },
  {
   "cell_type": "code",
   "execution_count": null,
   "metadata": {},
   "outputs": [
    {
     "data": {
      "text/html": [
       "<div>\n",
       "<style scoped>\n",
       "    .dataframe tbody tr th:only-of-type {\n",
       "        vertical-align: middle;\n",
       "    }\n",
       "\n",
       "    .dataframe tbody tr th {\n",
       "        vertical-align: top;\n",
       "    }\n",
       "\n",
       "    .dataframe thead th {\n",
       "        text-align: right;\n",
       "    }\n",
       "</style>\n",
       "<table border=\"1\" class=\"dataframe\">\n",
       "  <thead>\n",
       "    <tr style=\"text-align: right;\">\n",
       "      <th></th>\n",
       "      <th>user</th>\n",
       "      <th>heartrate</th>\n",
       "      <th>datetime</th>\n",
       "    </tr>\n",
       "    <tr>\n",
       "      <th>datetime</th>\n",
       "      <th></th>\n",
       "      <th></th>\n",
       "      <th></th>\n",
       "    </tr>\n",
       "  </thead>\n",
       "  <tbody>\n",
       "    <tr>\n",
       "      <th>2026-07-22 00:00:04</th>\n",
       "      <td>A0KX894</td>\n",
       "      <td>78</td>\n",
       "      <td>2026-07-22 00:00:04</td>\n",
       "    </tr>\n",
       "    <tr>\n",
       "      <th>2026-07-22 00:00:09</th>\n",
       "      <td>A0KX894</td>\n",
       "      <td>77</td>\n",
       "      <td>2026-07-22 00:00:09</td>\n",
       "    </tr>\n",
       "    <tr>\n",
       "      <th>2026-07-22 00:00:14</th>\n",
       "      <td>A0KX894</td>\n",
       "      <td>76</td>\n",
       "      <td>2026-07-22 00:00:14</td>\n",
       "    </tr>\n",
       "    <tr>\n",
       "      <th>2026-07-22 00:00:19</th>\n",
       "      <td>A0KX894</td>\n",
       "      <td>75</td>\n",
       "      <td>2026-07-22 00:00:19</td>\n",
       "    </tr>\n",
       "    <tr>\n",
       "      <th>2026-07-22 00:00:24</th>\n",
       "      <td>A0KX894</td>\n",
       "      <td>74</td>\n",
       "      <td>2026-07-22 00:00:24</td>\n",
       "    </tr>\n",
       "  </tbody>\n",
       "</table>\n",
       "</div>"
      ],
      "text/plain": [
       "                        user  heartrate            datetime\n",
       "datetime                                                   \n",
       "2026-07-22 00:00:04  A0KX894         78 2026-07-22 00:00:04\n",
       "2026-07-22 00:00:09  A0KX894         77 2026-07-22 00:00:09\n",
       "2026-07-22 00:00:14  A0KX894         76 2026-07-22 00:00:14\n",
       "2026-07-22 00:00:19  A0KX894         75 2026-07-22 00:00:19\n",
       "2026-07-22 00:00:24  A0KX894         74 2026-07-22 00:00:24"
      ]
     },
     "execution_count": 36,
     "metadata": {},
     "output_type": "execute_result"
    }
   ],
   "source": [
    "df_t.head()"
   ]
  },
  {
   "cell_type": "code",
   "execution_count": null,
   "metadata": {},
   "outputs": [],
   "source": [
    "len(df_t)"
   ]
  },
  {
   "cell_type": "code",
   "execution_count": null,
   "metadata": {},
   "outputs": [],
   "source": [
    "df_master = pd.concat(merged_df_same_user_dict.values(), ignore_index=True)"
   ]
  },
  {
   "cell_type": "code",
   "execution_count": null,
   "metadata": {},
   "outputs": [
    {
     "data": {
      "text/html": [
       "<div>\n",
       "<style scoped>\n",
       "    .dataframe tbody tr th:only-of-type {\n",
       "        vertical-align: middle;\n",
       "    }\n",
       "\n",
       "    .dataframe tbody tr th {\n",
       "        vertical-align: top;\n",
       "    }\n",
       "\n",
       "    .dataframe thead th {\n",
       "        text-align: right;\n",
       "    }\n",
       "</style>\n",
       "<table border=\"1\" class=\"dataframe\">\n",
       "  <thead>\n",
       "    <tr style=\"text-align: right;\">\n",
       "      <th></th>\n",
       "      <th>user</th>\n",
       "      <th>heartrate</th>\n",
       "      <th>datetime</th>\n",
       "    </tr>\n",
       "  </thead>\n",
       "  <tbody>\n",
       "    <tr>\n",
       "      <th>0</th>\n",
       "      <td>A2XFW2N</td>\n",
       "      <td>79</td>\n",
       "      <td>2025-05-07 23:00:00</td>\n",
       "    </tr>\n",
       "    <tr>\n",
       "      <th>1</th>\n",
       "      <td>A2XFW2N</td>\n",
       "      <td>67</td>\n",
       "      <td>2025-05-07 23:01:00</td>\n",
       "    </tr>\n",
       "    <tr>\n",
       "      <th>2</th>\n",
       "      <td>A2XFW2N</td>\n",
       "      <td>63</td>\n",
       "      <td>2025-05-07 23:02:00</td>\n",
       "    </tr>\n",
       "    <tr>\n",
       "      <th>3</th>\n",
       "      <td>A2XFW2N</td>\n",
       "      <td>63</td>\n",
       "      <td>2025-05-07 23:03:00</td>\n",
       "    </tr>\n",
       "    <tr>\n",
       "      <th>4</th>\n",
       "      <td>A2XFW2N</td>\n",
       "      <td>63</td>\n",
       "      <td>2025-05-07 23:04:00</td>\n",
       "    </tr>\n",
       "  </tbody>\n",
       "</table>\n",
       "</div>"
      ],
      "text/plain": [
       "      user  heartrate            datetime\n",
       "0  A2XFW2N         79 2025-05-07 23:00:00\n",
       "1  A2XFW2N         67 2025-05-07 23:01:00\n",
       "2  A2XFW2N         63 2025-05-07 23:02:00\n",
       "3  A2XFW2N         63 2025-05-07 23:03:00\n",
       "4  A2XFW2N         63 2025-05-07 23:04:00"
      ]
     },
     "execution_count": 47,
     "metadata": {},
     "output_type": "execute_result"
    }
   ],
   "source": [
    "df_master.head()"
   ]
  },
  {
   "cell_type": "code",
   "execution_count": null,
   "metadata": {},
   "outputs": [
    {
     "data": {
      "text/plain": [
       "array(['A2XFW2N', 'AFVAEC7', 'AX6281V', 'AF3J1YC', 'AR4FPCC', 'A65HVGP',\n",
       "       'AKV66US', 'A99ZKKW', 'AJMQUVV', 'A3OU183', 'AUY8KYW', 'AZIK4ZA',\n",
       "       'A17YCA2', 'AQC0L71', 'AGA8XUN', 'ARR2IKE', 'A45F9E6', 'AIFDJZB',\n",
       "       'AAGTWZK', 'ATHKM6V', 'A0NVTRV', 'AA2KP1S', 'AUCGUF3', 'AQR8ZSS',\n",
       "       'ATHBFWX', 'APDJ1QP', 'AWA2KJK', 'AQ4TMLV', 'AX3KEW9', 'ALKAXMZ',\n",
       "       'A2D7K4A', 'AYVQUF1', 'AD77K91', 'A4E0D03', 'A35BJNV', 'A11V1FH',\n",
       "       'AFPB8J2', 'AWRBUQZ', 'A0KX894', 'AKXN5ZZ', 'AJWW3IY', 'A0N9NV4',\n",
       "       'AF3MXM1', 'AKTGD8X', 'AE0MQ94', 'AOS4BSJ', 'AOGFRXL', 'ATT9RR1',\n",
       "       'AAXAA7Z', 'A2P3LTM', 'APGIB2T', 'ALZDAVZ', 'A0L9BM2', 'AOB9SON',\n",
       "       'AK7YRBU', 'AJ7TSV9', 'AOYM4KG', 'AF8R0I6', 'A91HEZV', 'AZ35PI5',\n",
       "       'AMQUHOQ', 'AEOBCFJ', 'A0VFT1N', 'ASFODQR', 'AUILKHG', 'A0822M0',\n",
       "       'AURCTAK', 'AXD3W8O', 'AJ0DKQ3', 'AYEFCWQ', 'A8CBEJZ', 'AEOHH30',\n",
       "       'A7EM0B6', 'AL48GP3', 'A7EAWA7', 'AFHOHOM', 'AXCO7I9', 'A3ADWUT',\n",
       "       'AL3KT5B', 'A6GEBIK', 'ARFYLMK', 'AQ25Y0L', 'A11SQQN', 'AZ2RYW7',\n",
       "       'A1ZJ41O', 'AHYR55C', 'AHP25OJ', 'AFEFA29', 'A8QLAB0', 'A4G0044',\n",
       "       'AXDWDEA', 'AFYLHG4', 'AV2GF3B', 'APHNRSV', 'AHYIJDV', 'AMV7EQF',\n",
       "       'A1K5DRI', 'AEZDKVO', 'AW4EXXK', 'A06L7KF', 'A36HR6Y', 'AS2MVDL',\n",
       "       'AO20DS4', 'A5XL2IC', 'AY8TPMP', 'AE2B3RH', 'ARYB2QO', 'A4H7SNF',\n",
       "       'AOQA85X', 'AAF9ACE', 'AZKZ0AI', 'A6BUI4N', 'AYWIEKR', 'AGKI03N',\n",
       "       'AGYQJEL', 'AXI1PBS', 'A9ZG5GR'], dtype=object)"
      ]
     },
     "execution_count": 48,
     "metadata": {},
     "output_type": "execute_result"
    }
   ],
   "source": [
    "df_master[\"user\"].unique() # confirmed all users are in the master df"
   ]
  },
  {
   "cell_type": "code",
   "execution_count": null,
   "metadata": {},
   "outputs": [],
   "source": [
    "df_master.to_csv('datasets/df_master_hr_light.csv')"
   ]
  }
 ],
 "metadata": {
  "kernelspec": {
   "display_name": "Python 3.8.13 ('machine')",
   "language": "python",
   "name": "python3"
  },
  "language_info": {
   "codemirror_mode": {
    "name": "ipython",
    "version": 3
   },
   "file_extension": ".py",
   "mimetype": "text/x-python",
   "name": "python",
   "nbconvert_exporter": "python",
   "pygments_lexer": "ipython3",
   "version": "3.8.13"
  },
  "orig_nbformat": 4,
  "vscode": {
   "interpreter": {
    "hash": "5945d009ee0301743890d7430330cf9f851036b09bb94721e9fa183962f8f342"
   }
  }
 },
 "nbformat": 4,
 "nbformat_minor": 2
}
