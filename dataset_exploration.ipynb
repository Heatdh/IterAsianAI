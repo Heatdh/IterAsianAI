{
 "cells": [
  {
   "cell_type": "code",
   "execution_count": 2,
   "metadata": {},
   "outputs": [],
   "source": [
    "import pandas as pd"
   ]
  },
  {
   "cell_type": "markdown",
   "metadata": {},
   "source": [
    "Checking an example csv for heart rate\n"
   ]
  },
  {
   "cell_type": "code",
   "execution_count": 3,
   "metadata": {},
   "outputs": [
    {
     "data": {
      "text/html": [
       "<div>\n",
       "<style scoped>\n",
       "    .dataframe tbody tr th:only-of-type {\n",
       "        vertical-align: middle;\n",
       "    }\n",
       "\n",
       "    .dataframe tbody tr th {\n",
       "        vertical-align: top;\n",
       "    }\n",
       "\n",
       "    .dataframe thead th {\n",
       "        text-align: right;\n",
       "    }\n",
       "</style>\n",
       "<table border=\"1\" class=\"dataframe\">\n",
       "  <thead>\n",
       "    <tr style=\"text-align: right;\">\n",
       "      <th></th>\n",
       "      <th>user</th>\n",
       "      <th>datetime</th>\n",
       "      <th>heartrate</th>\n",
       "    </tr>\n",
       "  </thead>\n",
       "  <tbody>\n",
       "    <tr>\n",
       "      <th>0</th>\n",
       "      <td>A0KX894</td>\n",
       "      <td>2026-07-22 00:00:04</td>\n",
       "      <td>78</td>\n",
       "    </tr>\n",
       "    <tr>\n",
       "      <th>1</th>\n",
       "      <td>A0KX894</td>\n",
       "      <td>2026-07-22 00:00:09</td>\n",
       "      <td>77</td>\n",
       "    </tr>\n",
       "    <tr>\n",
       "      <th>2</th>\n",
       "      <td>A0KX894</td>\n",
       "      <td>2026-07-22 00:00:14</td>\n",
       "      <td>76</td>\n",
       "    </tr>\n",
       "    <tr>\n",
       "      <th>3</th>\n",
       "      <td>A0KX894</td>\n",
       "      <td>2026-07-22 00:00:19</td>\n",
       "      <td>75</td>\n",
       "    </tr>\n",
       "    <tr>\n",
       "      <th>4</th>\n",
       "      <td>A0KX894</td>\n",
       "      <td>2026-07-22 00:00:24</td>\n",
       "      <td>74</td>\n",
       "    </tr>\n",
       "    <tr>\n",
       "      <th>5</th>\n",
       "      <td>A0KX894</td>\n",
       "      <td>2026-07-22 00:00:29</td>\n",
       "      <td>75</td>\n",
       "    </tr>\n",
       "    <tr>\n",
       "      <th>6</th>\n",
       "      <td>A0KX894</td>\n",
       "      <td>2026-07-22 00:00:34</td>\n",
       "      <td>74</td>\n",
       "    </tr>\n",
       "    <tr>\n",
       "      <th>7</th>\n",
       "      <td>A0KX894</td>\n",
       "      <td>2026-07-22 00:00:49</td>\n",
       "      <td>74</td>\n",
       "    </tr>\n",
       "    <tr>\n",
       "      <th>8</th>\n",
       "      <td>A0KX894</td>\n",
       "      <td>2026-07-22 00:00:54</td>\n",
       "      <td>77</td>\n",
       "    </tr>\n",
       "    <tr>\n",
       "      <th>9</th>\n",
       "      <td>A0KX894</td>\n",
       "      <td>2026-07-22 00:00:59</td>\n",
       "      <td>76</td>\n",
       "    </tr>\n",
       "  </tbody>\n",
       "</table>\n",
       "</div>"
      ],
      "text/plain": [
       "      user             datetime  heartrate\n",
       "0  A0KX894  2026-07-22 00:00:04         78\n",
       "1  A0KX894  2026-07-22 00:00:09         77\n",
       "2  A0KX894  2026-07-22 00:00:14         76\n",
       "3  A0KX894  2026-07-22 00:00:19         75\n",
       "4  A0KX894  2026-07-22 00:00:24         74\n",
       "5  A0KX894  2026-07-22 00:00:29         75\n",
       "6  A0KX894  2026-07-22 00:00:34         74\n",
       "7  A0KX894  2026-07-22 00:00:49         74\n",
       "8  A0KX894  2026-07-22 00:00:54         77\n",
       "9  A0KX894  2026-07-22 00:00:59         76"
      ]
     },
     "execution_count": 3,
     "metadata": {},
     "output_type": "execute_result"
    }
   ],
   "source": [
    "df_ex_hr=pd.read_csv('datasets/COVID-19-Wearables/A0KX894_hr.csv')\n",
    "df_ex_hr.head(10)"
   ]
  },
  {
   "cell_type": "code",
   "execution_count": 4,
   "metadata": {},
   "outputs": [
    {
     "data": {
      "text/html": [
       "<div>\n",
       "<style scoped>\n",
       "    .dataframe tbody tr th:only-of-type {\n",
       "        vertical-align: middle;\n",
       "    }\n",
       "\n",
       "    .dataframe tbody tr th {\n",
       "        vertical-align: top;\n",
       "    }\n",
       "\n",
       "    .dataframe thead th {\n",
       "        text-align: right;\n",
       "    }\n",
       "</style>\n",
       "<table border=\"1\" class=\"dataframe\">\n",
       "  <thead>\n",
       "    <tr style=\"text-align: right;\">\n",
       "      <th></th>\n",
       "      <th>heartrate</th>\n",
       "    </tr>\n",
       "  </thead>\n",
       "  <tbody>\n",
       "    <tr>\n",
       "      <th>count</th>\n",
       "      <td>879561.000000</td>\n",
       "    </tr>\n",
       "    <tr>\n",
       "      <th>mean</th>\n",
       "      <td>76.706986</td>\n",
       "    </tr>\n",
       "    <tr>\n",
       "      <th>std</th>\n",
       "      <td>14.771697</td>\n",
       "    </tr>\n",
       "    <tr>\n",
       "      <th>min</th>\n",
       "      <td>47.000000</td>\n",
       "    </tr>\n",
       "    <tr>\n",
       "      <th>25%</th>\n",
       "      <td>66.000000</td>\n",
       "    </tr>\n",
       "    <tr>\n",
       "      <th>50%</th>\n",
       "      <td>75.000000</td>\n",
       "    </tr>\n",
       "    <tr>\n",
       "      <th>75%</th>\n",
       "      <td>85.000000</td>\n",
       "    </tr>\n",
       "    <tr>\n",
       "      <th>max</th>\n",
       "      <td>181.000000</td>\n",
       "    </tr>\n",
       "  </tbody>\n",
       "</table>\n",
       "</div>"
      ],
      "text/plain": [
       "           heartrate\n",
       "count  879561.000000\n",
       "mean       76.706986\n",
       "std        14.771697\n",
       "min        47.000000\n",
       "25%        66.000000\n",
       "50%        75.000000\n",
       "75%        85.000000\n",
       "max       181.000000"
      ]
     },
     "execution_count": 4,
     "metadata": {},
     "output_type": "execute_result"
    }
   ],
   "source": [
    "df_ex_hr.describe()"
   ]
  },
  {
   "cell_type": "code",
   "execution_count": 5,
   "metadata": {},
   "outputs": [
    {
     "name": "stdout",
     "output_type": "stream",
     "text": [
      "<class 'pandas.core.frame.DataFrame'>\n",
      "RangeIndex: 879561 entries, 0 to 879560\n",
      "Data columns (total 3 columns):\n",
      " #   Column     Non-Null Count   Dtype \n",
      "---  ------     --------------   ----- \n",
      " 0   user       879561 non-null  object\n",
      " 1   datetime   879561 non-null  object\n",
      " 2   heartrate  879561 non-null  int64 \n",
      "dtypes: int64(1), object(2)\n",
      "memory usage: 20.1+ MB\n"
     ]
    }
   ],
   "source": [
    "df_ex_hr.info()"
   ]
  },
  {
   "cell_type": "code",
   "execution_count": 6,
   "metadata": {},
   "outputs": [
    {
     "data": {
      "text/plain": [
       "count                  879561\n",
       "unique                 879561\n",
       "top       2026-07-22 00:00:04\n",
       "freq                        1\n",
       "Name: datetime, dtype: object"
      ]
     },
     "execution_count": 6,
     "metadata": {},
     "output_type": "execute_result"
    }
   ],
   "source": [
    "df_ex_hr['datetime'].describe()"
   ]
  },
  {
   "cell_type": "markdown",
   "metadata": {},
   "source": [
    "Max heart rate is normally 220 - 20, as the data recorded complies with the standards of Stanford universities, the participants should be around or superior to 20. lets do a quick check on one of the recorded data\n"
   ]
  },
  {
   "cell_type": "code",
   "execution_count": 7,
   "metadata": {},
   "outputs": [
    {
     "name": "stdout",
     "output_type": "stream",
     "text": [
      "Number of NaN entries:  user         0\n",
      "datetime     0\n",
      "heartrate    0\n",
      "dtype: int64\n",
      "Number of illogical entries:  user         0.0\n",
      "datetime     0.0\n",
      "heartrate    0.0\n",
      "dtype: float64\n"
     ]
    }
   ],
   "source": [
    "nan_entries = df_ex_hr.isna().sum()\n",
    "illogical_entries = df_ex_hr[(df_ex_hr['heartrate'] < 30)| (df_ex_hr['heartrate'] > 200)].sum()\n",
    "print('Number of NaN entries: ', nan_entries)\n",
    "print('Number of illogical entries: ', illogical_entries)"
   ]
  },
  {
   "cell_type": "code",
   "execution_count": 8,
   "metadata": {},
   "outputs": [
    {
     "data": {
      "text/html": [
       "<div>\n",
       "<style scoped>\n",
       "    .dataframe tbody tr th:only-of-type {\n",
       "        vertical-align: middle;\n",
       "    }\n",
       "\n",
       "    .dataframe tbody tr th {\n",
       "        vertical-align: top;\n",
       "    }\n",
       "\n",
       "    .dataframe thead th {\n",
       "        text-align: right;\n",
       "    }\n",
       "</style>\n",
       "<table border=\"1\" class=\"dataframe\">\n",
       "  <thead>\n",
       "    <tr style=\"text-align: right;\">\n",
       "      <th></th>\n",
       "      <th>user</th>\n",
       "      <th>datetime</th>\n",
       "      <th>heartrate</th>\n",
       "    </tr>\n",
       "  </thead>\n",
       "  <tbody>\n",
       "    <tr>\n",
       "      <th>0</th>\n",
       "      <td>A0KX894</td>\n",
       "      <td>2026-07-22 00:00:04</td>\n",
       "      <td>78</td>\n",
       "    </tr>\n",
       "    <tr>\n",
       "      <th>1</th>\n",
       "      <td>A0KX894</td>\n",
       "      <td>2026-07-22 00:00:09</td>\n",
       "      <td>77</td>\n",
       "    </tr>\n",
       "    <tr>\n",
       "      <th>2</th>\n",
       "      <td>A0KX894</td>\n",
       "      <td>2026-07-22 00:00:14</td>\n",
       "      <td>76</td>\n",
       "    </tr>\n",
       "    <tr>\n",
       "      <th>3</th>\n",
       "      <td>A0KX894</td>\n",
       "      <td>2026-07-22 00:00:19</td>\n",
       "      <td>75</td>\n",
       "    </tr>\n",
       "    <tr>\n",
       "      <th>4</th>\n",
       "      <td>A0KX894</td>\n",
       "      <td>2026-07-22 00:00:24</td>\n",
       "      <td>74</td>\n",
       "    </tr>\n",
       "    <tr>\n",
       "      <th>5</th>\n",
       "      <td>A0KX894</td>\n",
       "      <td>2026-07-22 00:00:29</td>\n",
       "      <td>75</td>\n",
       "    </tr>\n",
       "    <tr>\n",
       "      <th>6</th>\n",
       "      <td>A0KX894</td>\n",
       "      <td>2026-07-22 00:00:34</td>\n",
       "      <td>74</td>\n",
       "    </tr>\n",
       "    <tr>\n",
       "      <th>7</th>\n",
       "      <td>A0KX894</td>\n",
       "      <td>2026-07-22 00:00:49</td>\n",
       "      <td>74</td>\n",
       "    </tr>\n",
       "    <tr>\n",
       "      <th>8</th>\n",
       "      <td>A0KX894</td>\n",
       "      <td>2026-07-22 00:00:54</td>\n",
       "      <td>77</td>\n",
       "    </tr>\n",
       "    <tr>\n",
       "      <th>9</th>\n",
       "      <td>A0KX894</td>\n",
       "      <td>2026-07-22 00:00:59</td>\n",
       "      <td>76</td>\n",
       "    </tr>\n",
       "  </tbody>\n",
       "</table>\n",
       "</div>"
      ],
      "text/plain": [
       "      user             datetime  heartrate\n",
       "0  A0KX894  2026-07-22 00:00:04         78\n",
       "1  A0KX894  2026-07-22 00:00:09         77\n",
       "2  A0KX894  2026-07-22 00:00:14         76\n",
       "3  A0KX894  2026-07-22 00:00:19         75\n",
       "4  A0KX894  2026-07-22 00:00:24         74\n",
       "5  A0KX894  2026-07-22 00:00:29         75\n",
       "6  A0KX894  2026-07-22 00:00:34         74\n",
       "7  A0KX894  2026-07-22 00:00:49         74\n",
       "8  A0KX894  2026-07-22 00:00:54         77\n",
       "9  A0KX894  2026-07-22 00:00:59         76"
      ]
     },
     "execution_count": 8,
     "metadata": {},
     "output_type": "execute_result"
    }
   ],
   "source": [
    "df_ex_steps=pd.read_csv('datasets/COVID-19-Wearables/A0KX894_hr.csv')\n",
    "df_ex_steps.head(10)"
   ]
  },
  {
   "cell_type": "code",
   "execution_count": 9,
   "metadata": {},
   "outputs": [
    {
     "data": {
      "text/html": [
       "<div>\n",
       "<style scoped>\n",
       "    .dataframe tbody tr th:only-of-type {\n",
       "        vertical-align: middle;\n",
       "    }\n",
       "\n",
       "    .dataframe tbody tr th {\n",
       "        vertical-align: top;\n",
       "    }\n",
       "\n",
       "    .dataframe thead th {\n",
       "        text-align: right;\n",
       "    }\n",
       "</style>\n",
       "<table border=\"1\" class=\"dataframe\">\n",
       "  <thead>\n",
       "    <tr style=\"text-align: right;\">\n",
       "      <th></th>\n",
       "      <th>heartrate</th>\n",
       "    </tr>\n",
       "  </thead>\n",
       "  <tbody>\n",
       "    <tr>\n",
       "      <th>count</th>\n",
       "      <td>879561.000000</td>\n",
       "    </tr>\n",
       "    <tr>\n",
       "      <th>mean</th>\n",
       "      <td>76.706986</td>\n",
       "    </tr>\n",
       "    <tr>\n",
       "      <th>std</th>\n",
       "      <td>14.771697</td>\n",
       "    </tr>\n",
       "    <tr>\n",
       "      <th>min</th>\n",
       "      <td>47.000000</td>\n",
       "    </tr>\n",
       "    <tr>\n",
       "      <th>25%</th>\n",
       "      <td>66.000000</td>\n",
       "    </tr>\n",
       "    <tr>\n",
       "      <th>50%</th>\n",
       "      <td>75.000000</td>\n",
       "    </tr>\n",
       "    <tr>\n",
       "      <th>75%</th>\n",
       "      <td>85.000000</td>\n",
       "    </tr>\n",
       "    <tr>\n",
       "      <th>max</th>\n",
       "      <td>181.000000</td>\n",
       "    </tr>\n",
       "  </tbody>\n",
       "</table>\n",
       "</div>"
      ],
      "text/plain": [
       "           heartrate\n",
       "count  879561.000000\n",
       "mean       76.706986\n",
       "std        14.771697\n",
       "min        47.000000\n",
       "25%        66.000000\n",
       "50%        75.000000\n",
       "75%        85.000000\n",
       "max       181.000000"
      ]
     },
     "execution_count": 9,
     "metadata": {},
     "output_type": "execute_result"
    }
   ],
   "source": [
    "df_ex_steps.describe()"
   ]
  },
  {
   "cell_type": "code",
   "execution_count": 10,
   "metadata": {},
   "outputs": [
    {
     "name": "stdout",
     "output_type": "stream",
     "text": [
      "<class 'pandas.core.frame.DataFrame'>\n",
      "RangeIndex: 879561 entries, 0 to 879560\n",
      "Data columns (total 3 columns):\n",
      " #   Column     Non-Null Count   Dtype \n",
      "---  ------     --------------   ----- \n",
      " 0   user       879561 non-null  object\n",
      " 1   datetime   879561 non-null  object\n",
      " 2   heartrate  879561 non-null  int64 \n",
      "dtypes: int64(1), object(2)\n",
      "memory usage: 20.1+ MB\n"
     ]
    }
   ],
   "source": [
    "df_ex_steps.info()"
   ]
  },
  {
   "cell_type": "code",
   "execution_count": 11,
   "metadata": {},
   "outputs": [
    {
     "data": {
      "text/plain": [
       "count                  879561\n",
       "unique                 879561\n",
       "top       2026-07-22 00:00:04\n",
       "freq                        1\n",
       "Name: datetime, dtype: object"
      ]
     },
     "execution_count": 11,
     "metadata": {},
     "output_type": "execute_result"
    }
   ],
   "source": [
    "df_ex_steps['datetime'].describe()"
   ]
  },
  {
   "cell_type": "markdown",
   "metadata": {},
   "source": [
    "Lets ittereate over the directories and save a dictionary containing the users name and the corresponding hr and steps"
   ]
  },
  {
   "cell_type": "code",
   "execution_count": 12,
   "metadata": {},
   "outputs": [],
   "source": [
    "import os\n",
    "dir_csv = 'datasets/COVID-19-Wearables/'\n",
    "files = [f for f in os.listdir(dir_csv) if f.endswith('.csv')] # we can straight do it with os.listdir\n",
    "# noticed there are some files with user name containing_1 or _2, so we need to put that into consideration\n",
    "#user_name = [f.split('_')[0] if f.count(\"_\")==1 else \"\"for f in files]\n",
    "# will deal with it inside the dictionary better\n",
    "user_name = [f.split('_')[0] for f in files]\n",
    "mult=0\n",
    "for i in user_name:\n",
    "    if(user_name.count(i)) < 1:\n",
    "        print('missing data for user: ', i)\n",
    "    if(user_name.count(i)) > 2:\n",
    "        mult+=1\n",
    "       \n",
    "user_name_unique = list(set(user_name))\n",
    "\n",
    "dict_user_data={}   \n",
    "for i in user_name_unique:\n",
    "    dict_user_data[i] = dict()# I am not concatinating strings, there is a user with multi entries\n",
    "    dict_user_data[i]['hr'] = [f for f in files if f == i+'_hr.csv']\n",
    "    dict_user_data[i]['steps'] = [f for f in files if f == i+'_steps.csv']\n",
    "    s=[f for f in files if f == i+'_sleep.csv']\n",
    "    dict_user_data[i]['sleep'] = s if len(s)!=0 else None\n",
    "    if files.count(i+'_steps_longterm.csv.csv')>0:\n",
    "        dict_user_data[i]['steps_longterm']=i+'_steps_longterm.csv'\n",
    "    if files.count(i+'_hr_longterm.csv.csv')>0:\n",
    "        dict_user_data[i]['hr_longterm']=i+'_hr_longterm.csv'\n",
    "    if files.count(i+'_sleep_longterm.csv.csv')>0:\n",
    "        dict_user_data[i]['sleep_longterm']=i+'_sleep_longterm.csv'\n",
    "\n",
    "import json\n",
    "with open('datasets/dict_user_data.json', 'w') as fp:\n",
    "    json.dump(dict_user_data, fp)\n",
    "    \n",
    "# to visualize all the directory structure\n"
   ]
  },
  {
   "cell_type": "code",
   "execution_count": 13,
   "metadata": {},
   "outputs": [
    {
     "ename": "",
     "evalue": "",
     "output_type": "error",
     "traceback": [
      "\u001b[1;31mThe Kernel crashed while executing code in the the current cell or a previous cell. Please review the code in the cell(s) to identify a possible cause of the failure. Click <a href='https://aka.ms/vscodeJupyterKernelCrash'>here</a> for more info. View Jupyter <a href='command:jupyter.viewOutput'>log</a> for further details."
     ]
    },
    {
     "ename": "",
     "evalue": "",
     "output_type": "error",
     "traceback": [
      "\u001b[1;31mCanceled future for execute_request message before replies were done"
     ]
    }
   ],
   "source": [
    "merged_df_same_user_dict = {}\n",
    "\n",
    "for user in dict_user_data.keys():\n",
    "    if dict_user_data[user]['hr'] != []:\n",
    "        df_hr = pd.read_csv(dir_csv + dict_user_data[user]['hr'][0])\n",
    "        df_hr.set_index('datetime', inplace=True)\n",
    "    if dict_user_data[user]['steps'] != []:\n",
    "        df_steps=pd.read_csv(dir_csv + dict_user_data[user]['steps'][0])\n",
    "        df_steps.set_index('datetime', inplace=True)\n",
    "    merged_df_same_user_dict[user] = df_hr.merge(df_steps, how='outer')\n"
   ]
  },
  {
   "cell_type": "code",
   "execution_count": null,
   "metadata": {},
   "outputs": [],
   "source": []
  }
 ],
 "metadata": {
  "kernelspec": {
   "display_name": "Python 3.8.13 ('machine')",
   "language": "python",
   "name": "python3"
  },
  "language_info": {
   "codemirror_mode": {
    "name": "ipython",
    "version": 3
   },
   "file_extension": ".py",
   "mimetype": "text/x-python",
   "name": "python",
   "nbconvert_exporter": "python",
   "pygments_lexer": "ipython3",
   "version": "3.8.13"
  },
  "orig_nbformat": 4,
  "vscode": {
   "interpreter": {
    "hash": "5945d009ee0301743890d7430330cf9f851036b09bb94721e9fa183962f8f342"
   }
  }
 },
 "nbformat": 4,
 "nbformat_minor": 2
}
