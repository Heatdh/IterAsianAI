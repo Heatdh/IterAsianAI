{
 "cells": [
  {
   "cell_type": "code",
   "execution_count": 39,
   "metadata": {},
   "outputs": [],
   "source": [
    "import pandas as pd\n",
    "import numpy as np"
   ]
  },
  {
   "cell_type": "code",
   "execution_count": 40,
   "metadata": {},
   "outputs": [],
   "source": [
    "df_csv=pd.read_csv('datasets/df_master_hr_light.csv')"
   ]
  },
  {
   "cell_type": "code",
   "execution_count": 41,
   "metadata": {},
   "outputs": [
    {
     "name": "stderr",
     "output_type": "stream",
     "text": [
      "/Users/rayendhahri/opt/anaconda3/envs/machine/lib/python3.8/site-packages/openpyxl/worksheet/_reader.py:312: UserWarning: Unknown extension is not supported and will be removed\n",
      "  warn(msg)\n"
     ]
    }
   ],
   "source": [
    "df_labels=pd.read_excel('datasets/labelsxlsx.xlsx',sheet_name='SuppTable3_Fig2a_COVID-19',skiprows=3)"
   ]
  },
  {
   "cell_type": "code",
   "execution_count": 42,
   "metadata": {},
   "outputs": [
    {
     "data": {
      "text/html": [
       "<div>\n",
       "<style scoped>\n",
       "    .dataframe tbody tr th:only-of-type {\n",
       "        vertical-align: middle;\n",
       "    }\n",
       "\n",
       "    .dataframe tbody tr th {\n",
       "        vertical-align: top;\n",
       "    }\n",
       "\n",
       "    .dataframe thead th {\n",
       "        text-align: right;\n",
       "    }\n",
       "</style>\n",
       "<table border=\"1\" class=\"dataframe\">\n",
       "  <thead>\n",
       "    <tr style=\"text-align: right;\">\n",
       "      <th></th>\n",
       "      <th>Unnamed: 0</th>\n",
       "      <th>heartrate</th>\n",
       "      <th>user</th>\n",
       "      <th>datetime</th>\n",
       "    </tr>\n",
       "  </thead>\n",
       "  <tbody>\n",
       "    <tr>\n",
       "      <th>0</th>\n",
       "      <td>0</td>\n",
       "      <td>49.928571</td>\n",
       "      <td>A6BUI4N</td>\n",
       "      <td>2024-09-11 00:00:00</td>\n",
       "    </tr>\n",
       "    <tr>\n",
       "      <th>1</th>\n",
       "      <td>1</td>\n",
       "      <td>50.172414</td>\n",
       "      <td>A6BUI4N</td>\n",
       "      <td>2024-09-11 00:05:00</td>\n",
       "    </tr>\n",
       "    <tr>\n",
       "      <th>2</th>\n",
       "      <td>2</td>\n",
       "      <td>52.448276</td>\n",
       "      <td>A6BUI4N</td>\n",
       "      <td>2024-09-11 00:10:00</td>\n",
       "    </tr>\n",
       "    <tr>\n",
       "      <th>3</th>\n",
       "      <td>3</td>\n",
       "      <td>51.592593</td>\n",
       "      <td>A6BUI4N</td>\n",
       "      <td>2024-09-11 00:15:00</td>\n",
       "    </tr>\n",
       "    <tr>\n",
       "      <th>4</th>\n",
       "      <td>4</td>\n",
       "      <td>51.851852</td>\n",
       "      <td>A6BUI4N</td>\n",
       "      <td>2024-09-11 00:20:00</td>\n",
       "    </tr>\n",
       "  </tbody>\n",
       "</table>\n",
       "</div>"
      ],
      "text/plain": [
       "   Unnamed: 0  heartrate     user             datetime\n",
       "0           0  49.928571  A6BUI4N  2024-09-11 00:00:00\n",
       "1           1  50.172414  A6BUI4N  2024-09-11 00:05:00\n",
       "2           2  52.448276  A6BUI4N  2024-09-11 00:10:00\n",
       "3           3  51.592593  A6BUI4N  2024-09-11 00:15:00\n",
       "4           4  51.851852  A6BUI4N  2024-09-11 00:20:00"
      ]
     },
     "execution_count": 42,
     "metadata": {},
     "output_type": "execute_result"
    }
   ],
   "source": [
    "df_csv.head()"
   ]
  },
  {
   "cell_type": "code",
   "execution_count": 43,
   "metadata": {},
   "outputs": [
    {
     "data": {
      "text/plain": [
       "array(['COVID-19', 'Other Illness', 'Other Illness (Influenza B)'],\n",
       "      dtype=object)"
      ]
     },
     "execution_count": 43,
     "metadata": {},
     "output_type": "execute_result"
    }
   ],
   "source": [
    "df_labels['Category'].unique()"
   ]
  },
  {
   "cell_type": "code",
   "execution_count": 44,
   "metadata": {},
   "outputs": [],
   "source": [
    "df_labels_c=df_labels[(df_labels['Category']=='COVID-19') & (df_labels['Symptom_dates']!='[NaT]')]"
   ]
  },
  {
   "cell_type": "code",
   "execution_count": 45,
   "metadata": {},
   "outputs": [],
   "source": [
    "df_labels_all_ill=df_labels[ (df_labels['Symptom_dates']!='[NaT]')]"
   ]
  },
  {
   "cell_type": "code",
   "execution_count": 46,
   "metadata": {},
   "outputs": [],
   "source": [
    "test=df_labels[ (df_labels['Symptom_dates']!='[NaT]')&(df_labels['Category']!='COVID-19')]"
   ]
  },
  {
   "cell_type": "code",
   "execution_count": 47,
   "metadata": {},
   "outputs": [
    {
     "data": {
      "text/html": [
       "<div>\n",
       "<style scoped>\n",
       "    .dataframe tbody tr th:only-of-type {\n",
       "        vertical-align: middle;\n",
       "    }\n",
       "\n",
       "    .dataframe tbody tr th {\n",
       "        vertical-align: top;\n",
       "    }\n",
       "\n",
       "    .dataframe thead th {\n",
       "        text-align: right;\n",
       "    }\n",
       "</style>\n",
       "<table border=\"1\" class=\"dataframe\">\n",
       "  <thead>\n",
       "    <tr style=\"text-align: right;\">\n",
       "      <th></th>\n",
       "      <th>ParticipantID</th>\n",
       "      <th>Category</th>\n",
       "      <th>Symptom_dates</th>\n",
       "      <th>covid_diagnosis_dates</th>\n",
       "      <th>recovery_dates</th>\n",
       "    </tr>\n",
       "  </thead>\n",
       "  <tbody>\n",
       "    <tr>\n",
       "      <th>6</th>\n",
       "      <td>AR4FPCC</td>\n",
       "      <td>Other Illness</td>\n",
       "      <td>[Timestamp('2027-04-11 00:00:00'), Timestamp('...</td>\n",
       "      <td>[NaT]</td>\n",
       "      <td>[Timestamp('2027-05-01 00:00:00'), Timestamp('...</td>\n",
       "    </tr>\n",
       "    <tr>\n",
       "      <th>8</th>\n",
       "      <td>AUILKHG</td>\n",
       "      <td>Other Illness</td>\n",
       "      <td>[Timestamp('2027-07-18 00:00:00')]</td>\n",
       "      <td>[NaT]</td>\n",
       "      <td>[NaT]</td>\n",
       "    </tr>\n",
       "    <tr>\n",
       "      <th>9</th>\n",
       "      <td>AD77K91</td>\n",
       "      <td>Other Illness</td>\n",
       "      <td>[Timestamp('2023-09-04 00:00:00')]</td>\n",
       "      <td>[NaT]</td>\n",
       "      <td>[Timestamp('2023-09-14 00:00:00'), Timestamp('...</td>\n",
       "    </tr>\n",
       "    <tr>\n",
       "      <th>15</th>\n",
       "      <td>AF3J1YC</td>\n",
       "      <td>Other Illness (Influenza B)</td>\n",
       "      <td>[Timestamp('2025-09-03 00:00:00'), Timestamp('...</td>\n",
       "      <td>[NaT]</td>\n",
       "      <td>[Timestamp('2025-09-10 00:00:00'), Timestamp('...</td>\n",
       "    </tr>\n",
       "    <tr>\n",
       "      <th>28</th>\n",
       "      <td>AXI1PBS</td>\n",
       "      <td>Other Illness</td>\n",
       "      <td>[Timestamp('2026-02-05 00:00:00'), Timestamp('...</td>\n",
       "      <td>[NaT]</td>\n",
       "      <td>[Timestamp('2026-05-18 00:00:00')]</td>\n",
       "    </tr>\n",
       "  </tbody>\n",
       "</table>\n",
       "</div>"
      ],
      "text/plain": [
       "   ParticipantID                     Category  \\\n",
       "6        AR4FPCC                Other Illness   \n",
       "8        AUILKHG                Other Illness   \n",
       "9        AD77K91                Other Illness   \n",
       "15       AF3J1YC  Other Illness (Influenza B)   \n",
       "28       AXI1PBS                Other Illness   \n",
       "\n",
       "                                        Symptom_dates covid_diagnosis_dates  \\\n",
       "6   [Timestamp('2027-04-11 00:00:00'), Timestamp('...                 [NaT]   \n",
       "8                  [Timestamp('2027-07-18 00:00:00')]                 [NaT]   \n",
       "9                  [Timestamp('2023-09-04 00:00:00')]                 [NaT]   \n",
       "15  [Timestamp('2025-09-03 00:00:00'), Timestamp('...                 [NaT]   \n",
       "28  [Timestamp('2026-02-05 00:00:00'), Timestamp('...                 [NaT]   \n",
       "\n",
       "                                       recovery_dates  \n",
       "6   [Timestamp('2027-05-01 00:00:00'), Timestamp('...  \n",
       "8                                               [NaT]  \n",
       "9   [Timestamp('2023-09-14 00:00:00'), Timestamp('...  \n",
       "15  [Timestamp('2025-09-10 00:00:00'), Timestamp('...  \n",
       "28                 [Timestamp('2026-05-18 00:00:00')]  "
      ]
     },
     "execution_count": 47,
     "metadata": {},
     "output_type": "execute_result"
    }
   ],
   "source": [
    "test.head()"
   ]
  },
  {
   "cell_type": "code",
   "execution_count": 48,
   "metadata": {},
   "outputs": [
    {
     "data": {
      "text/html": [
       "<div>\n",
       "<style scoped>\n",
       "    .dataframe tbody tr th:only-of-type {\n",
       "        vertical-align: middle;\n",
       "    }\n",
       "\n",
       "    .dataframe tbody tr th {\n",
       "        vertical-align: top;\n",
       "    }\n",
       "\n",
       "    .dataframe thead th {\n",
       "        text-align: right;\n",
       "    }\n",
       "</style>\n",
       "<table border=\"1\" class=\"dataframe\">\n",
       "  <thead>\n",
       "    <tr style=\"text-align: right;\">\n",
       "      <th></th>\n",
       "      <th>ParticipantID</th>\n",
       "      <th>Category</th>\n",
       "      <th>Symptom_dates</th>\n",
       "      <th>covid_diagnosis_dates</th>\n",
       "      <th>recovery_dates</th>\n",
       "    </tr>\n",
       "  </thead>\n",
       "  <tbody>\n",
       "    <tr>\n",
       "      <th>0</th>\n",
       "      <td>AFPB8J2</td>\n",
       "      <td>COVID-19</td>\n",
       "      <td>[Timestamp('2026-07-14 00:00:00')]</td>\n",
       "      <td>[Timestamp('2026-07-17 00:00:00')]</td>\n",
       "      <td>[Timestamp('2026-08-06 00:00:00')]</td>\n",
       "    </tr>\n",
       "    <tr>\n",
       "      <th>1</th>\n",
       "      <td>APGIB2T</td>\n",
       "      <td>COVID-19</td>\n",
       "      <td>[Timestamp('2023-05-22 00:00:00')]</td>\n",
       "      <td>[Timestamp('2023-05-28 00:00:00')]</td>\n",
       "      <td>[Timestamp('2023-06-11 00:00:00')]</td>\n",
       "    </tr>\n",
       "    <tr>\n",
       "      <th>3</th>\n",
       "      <td>AQC0L71</td>\n",
       "      <td>COVID-19</td>\n",
       "      <td>[Timestamp('2028-06-17 00:00:00')]</td>\n",
       "      <td>[Timestamp('2028-06-19 00:00:00')]</td>\n",
       "      <td>[Timestamp('2028-05-16 00:00:00'), Timestamp('...</td>\n",
       "    </tr>\n",
       "    <tr>\n",
       "      <th>4</th>\n",
       "      <td>A0NVTRV</td>\n",
       "      <td>COVID-19</td>\n",
       "      <td>[Timestamp('2023-12-06 00:00:00')]</td>\n",
       "      <td>[Timestamp('2023-12-11 00:00:00')]</td>\n",
       "      <td>[Timestamp('2023-12-14 00:00:00'), Timestamp('...</td>\n",
       "    </tr>\n",
       "    <tr>\n",
       "      <th>5</th>\n",
       "      <td>AOYM4KG</td>\n",
       "      <td>COVID-19</td>\n",
       "      <td>[Timestamp('2023-08-29 00:00:00'), Timestamp('...</td>\n",
       "      <td>[Timestamp('2023-09-18 00:00:00')]</td>\n",
       "      <td>[Timestamp('2023-09-19 00:00:00'), Timestamp('...</td>\n",
       "    </tr>\n",
       "  </tbody>\n",
       "</table>\n",
       "</div>"
      ],
      "text/plain": [
       "  ParticipantID  Category                                      Symptom_dates  \\\n",
       "0       AFPB8J2  COVID-19                 [Timestamp('2026-07-14 00:00:00')]   \n",
       "1       APGIB2T  COVID-19                 [Timestamp('2023-05-22 00:00:00')]   \n",
       "3       AQC0L71  COVID-19                 [Timestamp('2028-06-17 00:00:00')]   \n",
       "4       A0NVTRV  COVID-19                 [Timestamp('2023-12-06 00:00:00')]   \n",
       "5       AOYM4KG  COVID-19  [Timestamp('2023-08-29 00:00:00'), Timestamp('...   \n",
       "\n",
       "                covid_diagnosis_dates  \\\n",
       "0  [Timestamp('2026-07-17 00:00:00')]   \n",
       "1  [Timestamp('2023-05-28 00:00:00')]   \n",
       "3  [Timestamp('2028-06-19 00:00:00')]   \n",
       "4  [Timestamp('2023-12-11 00:00:00')]   \n",
       "5  [Timestamp('2023-09-18 00:00:00')]   \n",
       "\n",
       "                                      recovery_dates  \n",
       "0                 [Timestamp('2026-08-06 00:00:00')]  \n",
       "1                 [Timestamp('2023-06-11 00:00:00')]  \n",
       "3  [Timestamp('2028-05-16 00:00:00'), Timestamp('...  \n",
       "4  [Timestamp('2023-12-14 00:00:00'), Timestamp('...  \n",
       "5  [Timestamp('2023-09-19 00:00:00'), Timestamp('...  "
      ]
     },
     "execution_count": 48,
     "metadata": {},
     "output_type": "execute_result"
    }
   ],
   "source": [
    "df_labels_all_ill.head()"
   ]
  },
  {
   "cell_type": "code",
   "execution_count": 49,
   "metadata": {},
   "outputs": [],
   "source": [
    "df_labels_c = df_labels_c[['ParticipantID','Symptom_dates']]"
   ]
  },
  {
   "cell_type": "code",
   "execution_count": 50,
   "metadata": {},
   "outputs": [],
   "source": [
    "df_labels_all_ill = df_labels_all_ill[['ParticipantID','Symptom_dates','Category']]"
   ]
  },
  {
   "cell_type": "code",
   "execution_count": 51,
   "metadata": {},
   "outputs": [
    {
     "data": {
      "text/html": [
       "<div>\n",
       "<style scoped>\n",
       "    .dataframe tbody tr th:only-of-type {\n",
       "        vertical-align: middle;\n",
       "    }\n",
       "\n",
       "    .dataframe tbody tr th {\n",
       "        vertical-align: top;\n",
       "    }\n",
       "\n",
       "    .dataframe thead th {\n",
       "        text-align: right;\n",
       "    }\n",
       "</style>\n",
       "<table border=\"1\" class=\"dataframe\">\n",
       "  <thead>\n",
       "    <tr style=\"text-align: right;\">\n",
       "      <th></th>\n",
       "      <th>ParticipantID</th>\n",
       "      <th>Symptom_dates</th>\n",
       "    </tr>\n",
       "  </thead>\n",
       "  <tbody>\n",
       "    <tr>\n",
       "      <th>0</th>\n",
       "      <td>AFPB8J2</td>\n",
       "      <td>[Timestamp('2026-07-14 00:00:00')]</td>\n",
       "    </tr>\n",
       "    <tr>\n",
       "      <th>1</th>\n",
       "      <td>APGIB2T</td>\n",
       "      <td>[Timestamp('2023-05-22 00:00:00')]</td>\n",
       "    </tr>\n",
       "    <tr>\n",
       "      <th>3</th>\n",
       "      <td>AQC0L71</td>\n",
       "      <td>[Timestamp('2028-06-17 00:00:00')]</td>\n",
       "    </tr>\n",
       "    <tr>\n",
       "      <th>4</th>\n",
       "      <td>A0NVTRV</td>\n",
       "      <td>[Timestamp('2023-12-06 00:00:00')]</td>\n",
       "    </tr>\n",
       "    <tr>\n",
       "      <th>5</th>\n",
       "      <td>AOYM4KG</td>\n",
       "      <td>[Timestamp('2023-08-29 00:00:00'), Timestamp('...</td>\n",
       "    </tr>\n",
       "  </tbody>\n",
       "</table>\n",
       "</div>"
      ],
      "text/plain": [
       "  ParticipantID                                      Symptom_dates\n",
       "0       AFPB8J2                 [Timestamp('2026-07-14 00:00:00')]\n",
       "1       APGIB2T                 [Timestamp('2023-05-22 00:00:00')]\n",
       "3       AQC0L71                 [Timestamp('2028-06-17 00:00:00')]\n",
       "4       A0NVTRV                 [Timestamp('2023-12-06 00:00:00')]\n",
       "5       AOYM4KG  [Timestamp('2023-08-29 00:00:00'), Timestamp('..."
      ]
     },
     "execution_count": 51,
     "metadata": {},
     "output_type": "execute_result"
    }
   ],
   "source": [
    "df_labels_c.head()"
   ]
  },
  {
   "cell_type": "code",
   "execution_count": 52,
   "metadata": {},
   "outputs": [
    {
     "data": {
      "text/plain": [
       "array(['COVID-19', 'Other Illness', 'Other Illness (Influenza B)'],\n",
       "      dtype=object)"
      ]
     },
     "execution_count": 52,
     "metadata": {},
     "output_type": "execute_result"
    }
   ],
   "source": [
    "df_labels_all_ill[\"Category\"].unique()"
   ]
  },
  {
   "cell_type": "code",
   "execution_count": 53,
   "metadata": {},
   "outputs": [],
   "source": [
    "dct = {}\n",
    "dct_all_ill = {}\n",
    "for i in df_labels_c.iterrows():\n",
    "        dct[i[1].ParticipantID] = i[1].Symptom_dates.split(\" \")[0].split(\"'\")[1]\n",
    "for i in df_labels_all_ill.iterrows():\n",
    "        dct_all_ill[i[1].ParticipantID] = [i[1].Symptom_dates.split(\" \")[0].split(\"'\")[1],i[1].Category]\n",
    "        "
   ]
  },
  {
   "cell_type": "code",
   "execution_count": 54,
   "metadata": {},
   "outputs": [
    {
     "name": "stdout",
     "output_type": "stream",
     "text": [
      "{'AFPB8J2': ['2026-07-14', 'COVID-19'], 'APGIB2T': ['2023-05-22', 'COVID-19'], 'AQC0L71': ['2028-06-17', 'COVID-19'], 'A0NVTRV': ['2023-12-06', 'COVID-19'], 'AOYM4KG': ['2023-08-29', 'COVID-19'], 'AR4FPCC': ['2027-04-11', 'Other Illness'], 'A4G0044': ['2027-03-04', 'COVID-19'], 'AUILKHG': ['2027-07-18', 'Other Illness'], 'AD77K91': ['2023-09-04', 'Other Illness'], 'A3OU183': ['2024-11-23', 'COVID-19'], 'AX6281V': ['2024-02-08', 'COVID-19'], 'A4E0D03': ['2028-03-13', 'COVID-19'], 'AS2MVDL': ['2025-03-02', 'COVID-19'], 'AKXN5ZZ': ['2028-01-16', 'COVID-19'], 'AF3J1YC': ['2025-09-03', 'Other Illness (Influenza B)'], 'AJWW3IY': ['2024-08-09', 'COVID-19'], 'AAXAA7Z': ['2023-03-30', 'COVID-19'], 'AHYIJDV': ['2025-01-16', 'COVID-19'], 'AV2GF3B': ['2026-02-12', 'COVID-19'], 'AJ7TSV9': ['2025-01-28', 'COVID-19'], 'A1K5DRI': ['2028-01-21', 'COVID-19'], 'A7EM0B6': ['2023-12-26', 'COVID-19'], 'ASFODQR': ['2024-08-14', 'COVID-19'], 'ATHKM6V': ['2024-03-06', 'COVID-19'], 'A0VFT1N': ['2023-10-13', 'COVID-19'], 'AZIK4ZA': ['2024-07-29', 'COVID-19'], 'AXI1PBS': ['2026-02-05', 'Other Illness'], 'AYWIEKR': ['2023-04-07', 'COVID-19'], 'A36HR6Y': ['2023-05-18', 'COVID-19'], 'AYEFCWQ': ['2025-07-07', 'COVID-19'], 'AA2KP1S': ['2025-01-06', 'COVID-19'], 'AIFDJZB': ['2023-11-07', 'COVID-19'], 'AJMQUVV': ['2024-09-05', 'COVID-19'], 'AMV7EQF': ['2027-06-09', 'COVID-19'], 'A1ZJ41O': ['2027-08-06', 'COVID-19'], 'AK7YRBU': ['2025-04-12', 'Other Illness'], 'A35BJNV': ['2026-08-24', 'Other Illness'], 'AEOBCFJ': ['2029-01-11', 'Other Illness'], 'AOGFRXL': ['2028-08-19', 'Other Illness'], 'ALKAXMZ': ['2024-10-01', 'Other Illness'], 'AA0HAI1_Illness_1': ['2029-08-04', 'Other Illness'], 'AA0HAI1_Illness_2': ['2029-09-09', 'Other Illness'], 'AA0HAI1_Illness_3': ['2030-08-04', 'Other Illness'], 'AFHOHOM': ['2027-01-17', 'Other Illness']}\n"
     ]
    }
   ],
   "source": [
    "print(dct_all_ill)"
   ]
  },
  {
   "cell_type": "code",
   "execution_count": 55,
   "metadata": {},
   "outputs": [],
   "source": [
    "list_user=list(dct.keys())\n",
    "list_user_all_ill=list(dct_all_ill.keys())"
   ]
  },
  {
   "cell_type": "code",
   "execution_count": 56,
   "metadata": {},
   "outputs": [],
   "source": [
    "index_bolean = (df_csv['user'].isin(list_user) & (df_csv['heartrate']>=30) & (df_csv['heartrate']<=200))\n",
    "filtered_df = df_csv[index_bolean]"
   ]
  },
  {
   "cell_type": "code",
   "execution_count": 57,
   "metadata": {},
   "outputs": [],
   "source": [
    "index_bolean_all_ill = (df_csv['user'].isin(list_user_all_ill) & (df_csv['heartrate']>=30) & (df_csv['heartrate']<=200))\n",
    "filtered_df_all_ill = df_csv[index_bolean_all_ill]"
   ]
  },
  {
   "cell_type": "code",
   "execution_count": 58,
   "metadata": {},
   "outputs": [
    {
     "data": {
      "text/plain": [
       "638515"
      ]
     },
     "execution_count": 58,
     "metadata": {},
     "output_type": "execute_result"
    }
   ],
   "source": [
    "len(filtered_df)"
   ]
  },
  {
   "cell_type": "code",
   "execution_count": 59,
   "metadata": {},
   "outputs": [
    {
     "data": {
      "text/plain": [
       "852259"
      ]
     },
     "execution_count": 59,
     "metadata": {},
     "output_type": "execute_result"
    }
   ],
   "source": [
    "len(filtered_df_all_ill)"
   ]
  },
  {
   "cell_type": "code",
   "execution_count": 60,
   "metadata": {},
   "outputs": [],
   "source": [
    "filtered_df=filtered_df.drop(columns=['Unnamed: 0'],axis=1)"
   ]
  },
  {
   "cell_type": "code",
   "execution_count": 61,
   "metadata": {},
   "outputs": [],
   "source": [
    "filtered_df_all_ill=filtered_df_all_ill.drop(columns=['Unnamed: 0'],axis=1)"
   ]
  },
  {
   "cell_type": "code",
   "execution_count": 62,
   "metadata": {},
   "outputs": [
    {
     "data": {
      "text/html": [
       "<div>\n",
       "<style scoped>\n",
       "    .dataframe tbody tr th:only-of-type {\n",
       "        vertical-align: middle;\n",
       "    }\n",
       "\n",
       "    .dataframe tbody tr th {\n",
       "        vertical-align: top;\n",
       "    }\n",
       "\n",
       "    .dataframe thead th {\n",
       "        text-align: right;\n",
       "    }\n",
       "</style>\n",
       "<table border=\"1\" class=\"dataframe\">\n",
       "  <thead>\n",
       "    <tr style=\"text-align: right;\">\n",
       "      <th></th>\n",
       "      <th>heartrate</th>\n",
       "      <th>user</th>\n",
       "      <th>datetime</th>\n",
       "    </tr>\n",
       "  </thead>\n",
       "  <tbody>\n",
       "    <tr>\n",
       "      <th>94571</th>\n",
       "      <td>49.535714</td>\n",
       "      <td>ATHKM6V</td>\n",
       "      <td>2024-02-10 00:00:00</td>\n",
       "    </tr>\n",
       "    <tr>\n",
       "      <th>94572</th>\n",
       "      <td>52.878788</td>\n",
       "      <td>ATHKM6V</td>\n",
       "      <td>2024-02-10 00:05:00</td>\n",
       "    </tr>\n",
       "    <tr>\n",
       "      <th>94573</th>\n",
       "      <td>49.075000</td>\n",
       "      <td>ATHKM6V</td>\n",
       "      <td>2024-02-10 00:10:00</td>\n",
       "    </tr>\n",
       "    <tr>\n",
       "      <th>94574</th>\n",
       "      <td>49.282609</td>\n",
       "      <td>ATHKM6V</td>\n",
       "      <td>2024-02-10 00:15:00</td>\n",
       "    </tr>\n",
       "    <tr>\n",
       "      <th>94575</th>\n",
       "      <td>48.195652</td>\n",
       "      <td>ATHKM6V</td>\n",
       "      <td>2024-02-10 00:20:00</td>\n",
       "    </tr>\n",
       "  </tbody>\n",
       "</table>\n",
       "</div>"
      ],
      "text/plain": [
       "       heartrate     user             datetime\n",
       "94571  49.535714  ATHKM6V  2024-02-10 00:00:00\n",
       "94572  52.878788  ATHKM6V  2024-02-10 00:05:00\n",
       "94573  49.075000  ATHKM6V  2024-02-10 00:10:00\n",
       "94574  49.282609  ATHKM6V  2024-02-10 00:15:00\n",
       "94575  48.195652  ATHKM6V  2024-02-10 00:20:00"
      ]
     },
     "execution_count": 62,
     "metadata": {},
     "output_type": "execute_result"
    }
   ],
   "source": [
    "filtered_df_all_ill.head()"
   ]
  },
  {
   "cell_type": "code",
   "execution_count": 63,
   "metadata": {},
   "outputs": [],
   "source": [
    "for i in filtered_df.iterrows():\n",
    "    if i[1].user in dct.keys():\n",
    "        filtered_df.loc[i[0],'symptom_date']=dct[i[1].user]"
   ]
  },
  {
   "cell_type": "code",
   "execution_count": 73,
   "metadata": {},
   "outputs": [],
   "source": [
    "for i in filtered_df_all_ill.iterrows():\n",
    "    if i[1].user in dct_all_ill.keys():\n",
    "        filtered_df_all_ill.loc[i[0],'symptom_date']=dct_all_ill[i[1].user][0]\n",
    "        filtered_df_all_ill.loc[i[0],'sickness']=dct_all_ill[i[1].user][1]\n",
    "       "
   ]
  },
  {
   "cell_type": "code",
   "execution_count": 74,
   "metadata": {},
   "outputs": [
    {
     "data": {
      "text/html": [
       "<div>\n",
       "<style scoped>\n",
       "    .dataframe tbody tr th:only-of-type {\n",
       "        vertical-align: middle;\n",
       "    }\n",
       "\n",
       "    .dataframe tbody tr th {\n",
       "        vertical-align: top;\n",
       "    }\n",
       "\n",
       "    .dataframe thead th {\n",
       "        text-align: right;\n",
       "    }\n",
       "</style>\n",
       "<table border=\"1\" class=\"dataframe\">\n",
       "  <thead>\n",
       "    <tr style=\"text-align: right;\">\n",
       "      <th></th>\n",
       "      <th>heartrate</th>\n",
       "      <th>user</th>\n",
       "      <th>datetime</th>\n",
       "      <th>symptom_date</th>\n",
       "    </tr>\n",
       "  </thead>\n",
       "  <tbody>\n",
       "    <tr>\n",
       "      <th>94571</th>\n",
       "      <td>49.535714</td>\n",
       "      <td>ATHKM6V</td>\n",
       "      <td>2024-02-10 00:00:00</td>\n",
       "      <td>2024-03-06</td>\n",
       "    </tr>\n",
       "    <tr>\n",
       "      <th>94572</th>\n",
       "      <td>52.878788</td>\n",
       "      <td>ATHKM6V</td>\n",
       "      <td>2024-02-10 00:05:00</td>\n",
       "      <td>2024-03-06</td>\n",
       "    </tr>\n",
       "    <tr>\n",
       "      <th>94573</th>\n",
       "      <td>49.075000</td>\n",
       "      <td>ATHKM6V</td>\n",
       "      <td>2024-02-10 00:10:00</td>\n",
       "      <td>2024-03-06</td>\n",
       "    </tr>\n",
       "    <tr>\n",
       "      <th>94574</th>\n",
       "      <td>49.282609</td>\n",
       "      <td>ATHKM6V</td>\n",
       "      <td>2024-02-10 00:15:00</td>\n",
       "      <td>2024-03-06</td>\n",
       "    </tr>\n",
       "    <tr>\n",
       "      <th>94575</th>\n",
       "      <td>48.195652</td>\n",
       "      <td>ATHKM6V</td>\n",
       "      <td>2024-02-10 00:20:00</td>\n",
       "      <td>2024-03-06</td>\n",
       "    </tr>\n",
       "  </tbody>\n",
       "</table>\n",
       "</div>"
      ],
      "text/plain": [
       "       heartrate     user             datetime symptom_date\n",
       "94571  49.535714  ATHKM6V  2024-02-10 00:00:00   2024-03-06\n",
       "94572  52.878788  ATHKM6V  2024-02-10 00:05:00   2024-03-06\n",
       "94573  49.075000  ATHKM6V  2024-02-10 00:10:00   2024-03-06\n",
       "94574  49.282609  ATHKM6V  2024-02-10 00:15:00   2024-03-06\n",
       "94575  48.195652  ATHKM6V  2024-02-10 00:20:00   2024-03-06"
      ]
     },
     "execution_count": 74,
     "metadata": {},
     "output_type": "execute_result"
    }
   ],
   "source": [
    "filtered_df.head()"
   ]
  },
  {
   "cell_type": "code",
   "execution_count": 75,
   "metadata": {},
   "outputs": [
    {
     "data": {
      "text/html": [
       "<div>\n",
       "<style scoped>\n",
       "    .dataframe tbody tr th:only-of-type {\n",
       "        vertical-align: middle;\n",
       "    }\n",
       "\n",
       "    .dataframe tbody tr th {\n",
       "        vertical-align: top;\n",
       "    }\n",
       "\n",
       "    .dataframe thead th {\n",
       "        text-align: right;\n",
       "    }\n",
       "</style>\n",
       "<table border=\"1\" class=\"dataframe\">\n",
       "  <thead>\n",
       "    <tr style=\"text-align: right;\">\n",
       "      <th></th>\n",
       "      <th>heartrate</th>\n",
       "      <th>user</th>\n",
       "      <th>datetime</th>\n",
       "      <th>symptom_date</th>\n",
       "      <th>sickness</th>\n",
       "    </tr>\n",
       "  </thead>\n",
       "  <tbody>\n",
       "    <tr>\n",
       "      <th>94571</th>\n",
       "      <td>49.535714</td>\n",
       "      <td>ATHKM6V</td>\n",
       "      <td>2024-02-10 00:00:00</td>\n",
       "      <td>2024-03-06</td>\n",
       "      <td>COVID-19</td>\n",
       "    </tr>\n",
       "    <tr>\n",
       "      <th>94572</th>\n",
       "      <td>52.878788</td>\n",
       "      <td>ATHKM6V</td>\n",
       "      <td>2024-02-10 00:05:00</td>\n",
       "      <td>2024-03-06</td>\n",
       "      <td>COVID-19</td>\n",
       "    </tr>\n",
       "    <tr>\n",
       "      <th>94573</th>\n",
       "      <td>49.075000</td>\n",
       "      <td>ATHKM6V</td>\n",
       "      <td>2024-02-10 00:10:00</td>\n",
       "      <td>2024-03-06</td>\n",
       "      <td>COVID-19</td>\n",
       "    </tr>\n",
       "    <tr>\n",
       "      <th>94574</th>\n",
       "      <td>49.282609</td>\n",
       "      <td>ATHKM6V</td>\n",
       "      <td>2024-02-10 00:15:00</td>\n",
       "      <td>2024-03-06</td>\n",
       "      <td>COVID-19</td>\n",
       "    </tr>\n",
       "    <tr>\n",
       "      <th>94575</th>\n",
       "      <td>48.195652</td>\n",
       "      <td>ATHKM6V</td>\n",
       "      <td>2024-02-10 00:20:00</td>\n",
       "      <td>2024-03-06</td>\n",
       "      <td>COVID-19</td>\n",
       "    </tr>\n",
       "  </tbody>\n",
       "</table>\n",
       "</div>"
      ],
      "text/plain": [
       "       heartrate     user             datetime symptom_date  sickness\n",
       "94571  49.535714  ATHKM6V  2024-02-10 00:00:00   2024-03-06  COVID-19\n",
       "94572  52.878788  ATHKM6V  2024-02-10 00:05:00   2024-03-06  COVID-19\n",
       "94573  49.075000  ATHKM6V  2024-02-10 00:10:00   2024-03-06  COVID-19\n",
       "94574  49.282609  ATHKM6V  2024-02-10 00:15:00   2024-03-06  COVID-19\n",
       "94575  48.195652  ATHKM6V  2024-02-10 00:20:00   2024-03-06  COVID-19"
      ]
     },
     "execution_count": 75,
     "metadata": {},
     "output_type": "execute_result"
    }
   ],
   "source": [
    "filtered_df_all_ill.head()"
   ]
  },
  {
   "cell_type": "code",
   "execution_count": 76,
   "metadata": {},
   "outputs": [],
   "source": [
    "#sanity check\n",
    "assert len(filtered_df['symptom_date'].unique())==len(dct.keys())"
   ]
  },
  {
   "cell_type": "code",
   "execution_count": 77,
   "metadata": {},
   "outputs": [
    {
     "data": {
      "text/plain": [
       "heartrate       0\n",
       "user            0\n",
       "datetime        0\n",
       "symptom_date    0\n",
       "dtype: int64"
      ]
     },
     "execution_count": 77,
     "metadata": {},
     "output_type": "execute_result"
    }
   ],
   "source": [
    "filtered_df.isna().sum()"
   ]
  },
  {
   "cell_type": "code",
   "execution_count": 78,
   "metadata": {},
   "outputs": [],
   "source": [
    "#filtered_df.to_csv('datasets/df_master_hr_light_filtered_assigned_notonlycorona.csv')"
   ]
  },
  {
   "cell_type": "code",
   "execution_count": 79,
   "metadata": {},
   "outputs": [],
   "source": [
    "filtered_df_all_ill.to_csv('datasets/df_master_hr_light_filtered_assigned_all_ill.csv')"
   ]
  }
 ],
 "metadata": {
  "kernelspec": {
   "display_name": "Python 3.8.13 ('machine')",
   "language": "python",
   "name": "python3"
  },
  "language_info": {
   "codemirror_mode": {
    "name": "ipython",
    "version": 3
   },
   "file_extension": ".py",
   "mimetype": "text/x-python",
   "name": "python",
   "nbconvert_exporter": "python",
   "pygments_lexer": "ipython3",
   "version": "3.8.13"
  },
  "orig_nbformat": 4,
  "vscode": {
   "interpreter": {
    "hash": "5945d009ee0301743890d7430330cf9f851036b09bb94721e9fa183962f8f342"
   }
  }
 },
 "nbformat": 4,
 "nbformat_minor": 2
}
