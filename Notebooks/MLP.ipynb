{
 "cells": [
  {
   "cell_type": "code",
   "execution_count": null,
   "metadata": {},
   "outputs": [],
   "source": [
    "import pandas as pd\n",
    "import numpy as np"
   ]
  },
  {
   "cell_type": "code",
   "execution_count": null,
   "metadata": {},
   "outputs": [],
   "source": [
    "dataframe = pd.read_csv(\"/home/anwer/Desktop/Keras_tuner_hyperparameter_optimization/dataset/dataset_1_balanced.csv\")\n",
    "col_name_drop = [f\"steps_{i}\" for i in range(120)]\n",
    "dataframe = dataframe.drop(columns = col_name_drop)\n",
    "dataframe.pop(\"Unnamed: 0\")\n",
    "dataframe = dataframe[0:700]\n",
    "train, val, test = np.split(dataframe.sample(frac=1), [int(0.8*len(dataframe)), int(0.9*len(dataframe))])\n",
    "print(len(train), 'training examples')\n",
    "print(len(val), 'validation examples')\n",
    "print(len(test), 'test examples')\n",
    "print(train.label.value_counts())\n",
    "print(val.label.value_counts())\n",
    "train = train.dropna()\n",
    "y_val= val.pop('label')\n",
    "y_train = train.pop('label')\n",
    "y_test = test.pop('label')\n",
    "train=(train-train.mean())/train.std()\n",
    "print(val.head())"
   ]
  },
  {
   "cell_type": "code",
   "execution_count": null,
   "metadata": {},
   "outputs": [],
   "source": [
    "train"
   ]
  },
  {
   "cell_type": "code",
   "execution_count": null,
   "metadata": {},
   "outputs": [],
   "source": [
    "y_train.value_counts()"
   ]
  },
  {
   "cell_type": "code",
   "execution_count": null,
   "metadata": {},
   "outputs": [],
   "source": [
    "from keras import Sequential\n",
    "from keras.layers import Dense"
   ]
  },
  {
   "cell_type": "code",
   "execution_count": null,
   "metadata": {},
   "outputs": [],
   "source": [
    "classifier = Sequential()\n",
    "#First Hidden Layer\n",
    "classifier.add(Dense(100, activation='relu', kernel_initializer='random_normal', input_dim=120))\n",
    "#Second  Hidden Layer\n",
    "classifier.add(Dense(256, activation='relu', kernel_initializer='random_normal'))\n",
    "#Output Layer\n",
    "classifier.add(Dense(100, activation='relu', kernel_initializer='random_normal'))\n",
    "classifier.add(Dense(512, activation='relu', kernel_initializer='random_normal'))\n",
    "classifier.add(Dense(512, activation='relu', kernel_initializer='random_normal'))\n",
    "classifier.add(Dense(1, activation='sigmoid', kernel_initializer='random_normal'))"
   ]
  },
  {
   "cell_type": "code",
   "execution_count": null,
   "metadata": {},
   "outputs": [],
   "source": [
    "classifier.compile(optimizer ='adam',loss='binary_crossentropy', metrics =['accuracy'])\n",
    "print(y_train.value_counts())"
   ]
  },
  {
   "cell_type": "code",
   "execution_count": null,
   "metadata": {},
   "outputs": [],
   "source": [
    "classifier.fit(train,y_train, batch_size=2, epochs=50)"
   ]
  },
  {
   "cell_type": "code",
   "execution_count": null,
   "metadata": {},
   "outputs": [],
   "source": [
    "classifier.summary()"
   ]
  },
  {
   "cell_type": "code",
   "execution_count": null,
   "metadata": {},
   "outputs": [],
   "source": [
    "import pandas as pd\n",
    "import numpy as np\n",
    "import glob\n",
    "from tqdm import tqdm"
   ]
  },
  {
   "cell_type": "code",
   "execution_count": null,
   "metadata": {},
   "outputs": [],
   "source": [
    "#test_1\n",
    "for i in tqdm(glob.glob(r\"test_set/*.csv\")):\n",
    "    print(i.split(\"/\")[1])\n",
    "    data_hr = pd.read_csv(i)\n",
    "    data_hr['timestamp'] = pd.to_datetime(data_hr['timestamp'])\n",
    "    # print(data_hr.head())\n",
    "    data_hr = data_hr[['timestamp','heart_rate']]\n",
    "    data_hr = data_hr.set_index('timestamp')\n",
    "    data_hr_2hr_gap = data_hr.heart_rate.resample('2H').mean()\n",
    "    print(data_hr_2hr_gap.head())\n",
    "    break"
   ]
  },
  {
   "cell_type": "code",
   "execution_count": null,
   "metadata": {},
   "outputs": [],
   "source": [
    "x = data_hr_2hr_gap.reset_index()['heart_rate']\n",
    "li = []\n",
    "for i in range(len(x)-120):\n",
    "\n",
    "    li.append([x[i:i+120]])"
   ]
  },
  {
   "cell_type": "code",
   "execution_count": null,
   "metadata": {},
   "outputs": [],
   "source": [
    "pred = []\n",
    "for i in tqdm(li):\n",
    "    i = np.array(i)\n",
    "   \n",
    "    pred.append(classifier.predict(i))\n"
   ]
  },
  {
   "cell_type": "code",
   "execution_count": null,
   "metadata": {},
   "outputs": [],
   "source": [
    "pred.count(1)"
   ]
  },
  {
   "cell_type": "code",
   "execution_count": null,
   "metadata": {},
   "outputs": [],
   "source": []
  }
 ],
 "metadata": {
  "kernelspec": {
   "display_name": "Python 3.8.13 ('machine')",
   "language": "python",
   "name": "python3"
  },
  "language_info": {
   "codemirror_mode": {
    "name": "ipython",
    "version": 3
   },
   "file_extension": ".py",
   "mimetype": "text/x-python",
   "name": "python",
   "nbconvert_exporter": "python",
   "pygments_lexer": "ipython3",
   "version": "3.8.13"
  },
  "orig_nbformat": 4,
  "vscode": {
   "interpreter": {
    "hash": "5945d009ee0301743890d7430330cf9f851036b09bb94721e9fa183962f8f342"
   }
  }
 },
 "nbformat": 4,
 "nbformat_minor": 2
}
